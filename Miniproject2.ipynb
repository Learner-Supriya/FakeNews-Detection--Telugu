{
 "cells": [
  {
   "cell_type": "code",
   "execution_count": 1,
   "id": "9731bfbc",
   "metadata": {},
   "outputs": [],
   "source": [
    "import sklearn.datasets as skd\n",
    "import pandas as pd"
   ]
  },
  {
   "cell_type": "code",
   "execution_count": 2,
   "id": "6003962f",
   "metadata": {},
   "outputs": [
    {
     "data": {
      "text/html": [
       "<div>\n",
       "<style scoped>\n",
       "    .dataframe tbody tr th:only-of-type {\n",
       "        vertical-align: middle;\n",
       "    }\n",
       "\n",
       "    .dataframe tbody tr th {\n",
       "        vertical-align: top;\n",
       "    }\n",
       "\n",
       "    .dataframe thead th {\n",
       "        text-align: right;\n",
       "    }\n",
       "</style>\n",
       "<table border=\"1\" class=\"dataframe\">\n",
       "  <thead>\n",
       "    <tr style=\"text-align: right;\">\n",
       "      <th></th>\n",
       "      <th>statement</th>\n",
       "      <th>link</th>\n",
       "    </tr>\n",
       "  </thead>\n",
       "  <tbody>\n",
       "    <tr>\n",
       "      <th>0</th>\n",
       "      <td>ఇటీవల ఉపఎన్నిక జరిగిన అసెంబ్లీ స్థానాలలో 6 ND...</td>\n",
       "      <td>https://factly.in/telugu-these-details-regardi...</td>\n",
       "    </tr>\n",
       "    <tr>\n",
       "      <th>1</th>\n",
       "      <td>రాష్ట్రాలు చేస్తున్న అప్పులను నియంత్రించేందుక...</td>\n",
       "      <td>https://factly.in/telugu-no-law-to-recover-gov...</td>\n",
       "    </tr>\n",
       "    <tr>\n",
       "      <th>2</th>\n",
       "      <td>భారత దేశానికి స్వాతంత్ర్యం తెచ్చింది ముహమ్మద్...</td>\n",
       "      <td>https://factly.in/telugu-akhilesh-yadav-did-no...</td>\n",
       "    </tr>\n",
       "    <tr>\n",
       "      <th>3</th>\n",
       "      <td>పునీత్ రాజ్‌కుమార్ మరణానికి సంబంధించి డాక్టర్...</td>\n",
       "      <td>https://factly.in/telugu-this-message-in-relat...</td>\n",
       "    </tr>\n",
       "    <tr>\n",
       "      <th>4</th>\n",
       "      <td>నరేంద్ర మోదీ టీ అమ్మానని చెప్పుకునే వాద్‌నగర్...</td>\n",
       "      <td>https://factly.in/telugu-vadnagar-railway-stat...</td>\n",
       "    </tr>\n",
       "  </tbody>\n",
       "</table>\n",
       "</div>"
      ],
      "text/plain": [
       "                                           statement  \\\n",
       "0   ఇటీవల ఉపఎన్నిక జరిగిన అసెంబ్లీ స్థానాలలో 6 ND...   \n",
       "1   రాష్ట్రాలు చేస్తున్న అప్పులను నియంత్రించేందుక...   \n",
       "2   భారత దేశానికి స్వాతంత్ర్యం తెచ్చింది ముహమ్మద్...   \n",
       "3   పునీత్ రాజ్‌కుమార్ మరణానికి సంబంధించి డాక్టర్...   \n",
       "4   నరేంద్ర మోదీ టీ అమ్మానని చెప్పుకునే వాద్‌నగర్...   \n",
       "\n",
       "                                                link  \n",
       "0  https://factly.in/telugu-these-details-regardi...  \n",
       "1  https://factly.in/telugu-no-law-to-recover-gov...  \n",
       "2  https://factly.in/telugu-akhilesh-yadav-did-no...  \n",
       "3  https://factly.in/telugu-this-message-in-relat...  \n",
       "4  https://factly.in/telugu-vadnagar-railway-stat...  "
      ]
     },
     "execution_count": 2,
     "metadata": {},
     "output_type": "execute_result"
    }
   ],
   "source": [
    "fakeNews = pd.read_csv(\"fakeNews_dataset.csv\") \n",
    "fakeNews.head()"
   ]
  },
  {
   "cell_type": "code",
   "execution_count": 3,
   "id": "ac2434e2",
   "metadata": {},
   "outputs": [
    {
     "data": {
      "text/html": [
       "<div>\n",
       "<style scoped>\n",
       "    .dataframe tbody tr th:only-of-type {\n",
       "        vertical-align: middle;\n",
       "    }\n",
       "\n",
       "    .dataframe tbody tr th {\n",
       "        vertical-align: top;\n",
       "    }\n",
       "\n",
       "    .dataframe thead th {\n",
       "        text-align: right;\n",
       "    }\n",
       "</style>\n",
       "<table border=\"1\" class=\"dataframe\">\n",
       "  <thead>\n",
       "    <tr style=\"text-align: right;\">\n",
       "      <th></th>\n",
       "      <th>statement</th>\n",
       "    </tr>\n",
       "  </thead>\n",
       "  <tbody>\n",
       "    <tr>\n",
       "      <th>0</th>\n",
       "      <td>ఎస్సార్‌ వైజాగ్‌ టెర్మినల్‌ లిమిటెడ్‌ (ఎస్‌విట...</td>\n",
       "    </tr>\n",
       "    <tr>\n",
       "      <th>1</th>\n",
       "      <td>ఖనిజం  హ్యాండ్లింగ్‌ కాంప్లెక్స్‌ను 2015 మే నె...</td>\n",
       "    </tr>\n",
       "    <tr>\n",
       "      <th>2</th>\n",
       "      <td>ద్వారా ఏటా 1.6 కోట్ల టన్నుల కార్గోను హ్యాండిల...</td>\n",
       "    </tr>\n",
       "    <tr>\n",
       "      <th>3</th>\n",
       "      <td>కొత్త కార్డులు రూపొందిస్తే వాటికి ‘సీవీవీ’ నం...</td>\n",
       "    </tr>\n",
       "    <tr>\n",
       "      <th>4</th>\n",
       "      <td>రెండో ప్రపంచ యుద్ధంలో కమ్యూనికేషన్ల డేటాను, కో...</td>\n",
       "    </tr>\n",
       "  </tbody>\n",
       "</table>\n",
       "</div>"
      ],
      "text/plain": [
       "                                           statement\n",
       "0  ఎస్సార్‌ వైజాగ్‌ టెర్మినల్‌ లిమిటెడ్‌ (ఎస్‌విట...\n",
       "1  ఖనిజం  హ్యాండ్లింగ్‌ కాంప్లెక్స్‌ను 2015 మే నె...\n",
       "2   ద్వారా ఏటా 1.6 కోట్ల టన్నుల కార్గోను హ్యాండిల...\n",
       "3   కొత్త కార్డులు రూపొందిస్తే వాటికి ‘సీవీవీ’ నం...\n",
       "4  రెండో ప్రపంచ యుద్ధంలో కమ్యూనికేషన్ల డేటాను, కో..."
      ]
     },
     "execution_count": 3,
     "metadata": {},
     "output_type": "execute_result"
    }
   ],
   "source": [
    "RealNews = pd.read_csv(\"real_news.csv\",sep=\"|\") \n",
    "RealNews.head()"
   ]
  },
  {
   "cell_type": "code",
   "execution_count": 4,
   "id": "67992a20",
   "metadata": {},
   "outputs": [],
   "source": [
    "fakeNews[\"class\"]=\"fake\"\n",
    "RealNews[\"class\"]=\"real\""
   ]
  },
  {
   "cell_type": "code",
   "execution_count": 5,
   "id": "1d1108ce",
   "metadata": {},
   "outputs": [],
   "source": [
    "FakeNews=fakeNews.drop(['link'],axis=1)"
   ]
  },
  {
   "cell_type": "code",
   "execution_count": 6,
   "id": "29354400",
   "metadata": {},
   "outputs": [
    {
     "data": {
      "text/html": [
       "<div>\n",
       "<style scoped>\n",
       "    .dataframe tbody tr th:only-of-type {\n",
       "        vertical-align: middle;\n",
       "    }\n",
       "\n",
       "    .dataframe tbody tr th {\n",
       "        vertical-align: top;\n",
       "    }\n",
       "\n",
       "    .dataframe thead th {\n",
       "        text-align: right;\n",
       "    }\n",
       "</style>\n",
       "<table border=\"1\" class=\"dataframe\">\n",
       "  <thead>\n",
       "    <tr style=\"text-align: right;\">\n",
       "      <th></th>\n",
       "      <th>statement</th>\n",
       "      <th>class</th>\n",
       "    </tr>\n",
       "  </thead>\n",
       "  <tbody>\n",
       "    <tr>\n",
       "      <th>0</th>\n",
       "      <td>ఎస్సార్‌ వైజాగ్‌ టెర్మినల్‌ లిమిటెడ్‌ (ఎస్‌విట...</td>\n",
       "      <td>real</td>\n",
       "    </tr>\n",
       "    <tr>\n",
       "      <th>1</th>\n",
       "      <td>ఖనిజం  హ్యాండ్లింగ్‌ కాంప్లెక్స్‌ను 2015 మే నె...</td>\n",
       "      <td>real</td>\n",
       "    </tr>\n",
       "    <tr>\n",
       "      <th>2</th>\n",
       "      <td>ద్వారా ఏటా 1.6 కోట్ల టన్నుల కార్గోను హ్యాండిల...</td>\n",
       "      <td>real</td>\n",
       "    </tr>\n",
       "    <tr>\n",
       "      <th>3</th>\n",
       "      <td>కొత్త కార్డులు రూపొందిస్తే వాటికి ‘సీవీవీ’ నం...</td>\n",
       "      <td>real</td>\n",
       "    </tr>\n",
       "    <tr>\n",
       "      <th>4</th>\n",
       "      <td>రెండో ప్రపంచ యుద్ధంలో కమ్యూనికేషన్ల డేటాను, కో...</td>\n",
       "      <td>real</td>\n",
       "    </tr>\n",
       "  </tbody>\n",
       "</table>\n",
       "</div>"
      ],
      "text/plain": [
       "                                           statement class\n",
       "0  ఎస్సార్‌ వైజాగ్‌ టెర్మినల్‌ లిమిటెడ్‌ (ఎస్‌విట...  real\n",
       "1  ఖనిజం  హ్యాండ్లింగ్‌ కాంప్లెక్స్‌ను 2015 మే నె...  real\n",
       "2   ద్వారా ఏటా 1.6 కోట్ల టన్నుల కార్గోను హ్యాండిల...  real\n",
       "3   కొత్త కార్డులు రూపొందిస్తే వాటికి ‘సీవీవీ’ నం...  real\n",
       "4  రెండో ప్రపంచ యుద్ధంలో కమ్యూనికేషన్ల డేటాను, కో...  real"
      ]
     },
     "execution_count": 6,
     "metadata": {},
     "output_type": "execute_result"
    }
   ],
   "source": [
    "NewsDataset=pd.concat([RealNews,FakeNews],axis=0)\n",
    "NewsDataset.head()"
   ]
  },
  {
   "cell_type": "code",
   "execution_count": 7,
   "id": "b06c73a0",
   "metadata": {},
   "outputs": [
    {
     "data": {
      "text/html": [
       "<div>\n",
       "<style scoped>\n",
       "    .dataframe tbody tr th:only-of-type {\n",
       "        vertical-align: middle;\n",
       "    }\n",
       "\n",
       "    .dataframe tbody tr th {\n",
       "        vertical-align: top;\n",
       "    }\n",
       "\n",
       "    .dataframe thead th {\n",
       "        text-align: right;\n",
       "    }\n",
       "</style>\n",
       "<table border=\"1\" class=\"dataframe\">\n",
       "  <thead>\n",
       "    <tr style=\"text-align: right;\">\n",
       "      <th></th>\n",
       "      <th>statement</th>\n",
       "      <th>class</th>\n",
       "    </tr>\n",
       "  </thead>\n",
       "  <tbody>\n",
       "    <tr>\n",
       "      <th>1803</th>\n",
       "      <td>గురిపెట్టిన తుపాకీలా కనిపిస్తోంది. అది తుపాకీల...</td>\n",
       "      <td>real</td>\n",
       "    </tr>\n",
       "    <tr>\n",
       "      <th>2072</th>\n",
       "      <td>బాగా పనిచేస్తుంది. టొమాటొను కట్‌ చేసి విత్తనాల...</td>\n",
       "      <td>real</td>\n",
       "    </tr>\n",
       "    <tr>\n",
       "      <th>479</th>\n",
       "      <td>జిల్లాలోని మురకంబట్టు దగ్గర ముగ్గురు ఎర్రచందన...</td>\n",
       "      <td>real</td>\n",
       "    </tr>\n",
       "    <tr>\n",
       "      <th>231</th>\n",
       "      <td>హుజురాబాద్ అసెంబ్లీ ఎన్నికలలో ఈటల రాజేందర్ గె...</td>\n",
       "      <td>fake</td>\n",
       "    </tr>\n",
       "    <tr>\n",
       "      <th>176</th>\n",
       "      <td>‘టోక్యో ఒలింపిక్స్ 2020’లో స్వర్ణ పతకం సాధించ...</td>\n",
       "      <td>fake</td>\n",
       "    </tr>\n",
       "    <tr>\n",
       "      <th>991</th>\n",
       "      <td>శరీరంలో ఏ తేడా వచ్చినా ఏదో పెద్ద జబ్బే అనుకునే...</td>\n",
       "      <td>real</td>\n",
       "    </tr>\n",
       "    <tr>\n",
       "      <th>2335</th>\n",
       "      <td>ప్రభాకర్‌ రెడ్డి కోసమే కదా?’ అని అంతకుముందు న...</td>\n",
       "      <td>real</td>\n",
       "    </tr>\n",
       "    <tr>\n",
       "      <th>631</th>\n",
       "      <td>అమెరికా అధ్యక్షుడు జో బైడెన్ పోలీసుల దాడిలో చ...</td>\n",
       "      <td>fake</td>\n",
       "    </tr>\n",
       "    <tr>\n",
       "      <th>2402</th>\n",
       "      <td>మనోభావాలను మేమెలా గౌరవిస్తాం.నల్లధనంపై యుద్ధంల...</td>\n",
       "      <td>real</td>\n",
       "    </tr>\n",
       "    <tr>\n",
       "      <th>1081</th>\n",
       "      <td>గెలిపించారని, అపుడు అక్కడి ప్రజల కాళ్లలో ముల్...</td>\n",
       "      <td>real</td>\n",
       "    </tr>\n",
       "  </tbody>\n",
       "</table>\n",
       "</div>"
      ],
      "text/plain": [
       "                                              statement class\n",
       "1803  గురిపెట్టిన తుపాకీలా కనిపిస్తోంది. అది తుపాకీల...  real\n",
       "2072  బాగా పనిచేస్తుంది. టొమాటొను కట్‌ చేసి విత్తనాల...  real\n",
       "479    జిల్లాలోని మురకంబట్టు దగ్గర ముగ్గురు ఎర్రచందన...  real\n",
       "231    హుజురాబాద్ అసెంబ్లీ ఎన్నికలలో ఈటల రాజేందర్ గె...  fake\n",
       "176    ‘టోక్యో ఒలింపిక్స్ 2020’లో స్వర్ణ పతకం సాధించ...  fake\n",
       "991   శరీరంలో ఏ తేడా వచ్చినా ఏదో పెద్ద జబ్బే అనుకునే...  real\n",
       "2335   ప్రభాకర్‌ రెడ్డి కోసమే కదా?’ అని అంతకుముందు న...  real\n",
       "631    అమెరికా అధ్యక్షుడు జో బైడెన్ పోలీసుల దాడిలో చ...  fake\n",
       "2402  మనోభావాలను మేమెలా గౌరవిస్తాం.నల్లధనంపై యుద్ధంల...  real\n",
       "1081   గెలిపించారని, అపుడు అక్కడి ప్రజల కాళ్లలో ముల్...  real"
      ]
     },
     "execution_count": 7,
     "metadata": {},
     "output_type": "execute_result"
    }
   ],
   "source": [
    "NewsDataset=NewsDataset.sample(frac=1)\n",
    "NewsDataset.head(10)"
   ]
  },
  {
   "cell_type": "code",
   "execution_count": 8,
   "id": "c82e6e63",
   "metadata": {},
   "outputs": [],
   "source": [
    "from sklearn import model_selection, preprocessing, linear_model, naive_bayes, metrics, svm, ensemble\n",
    "from sklearn.metrics import accuracy_score, classification_report\n",
    "from sklearn.feature_extraction.text import CountVectorizer\n",
    "from sklearn.tree import DecisionTreeClassifier"
   ]
  },
  {
   "cell_type": "code",
   "execution_count": 9,
   "id": "8655ab9e",
   "metadata": {},
   "outputs": [],
   "source": [
    "Le=preprocessing.LabelEncoder()"
   ]
  },
  {
   "cell_type": "code",
   "execution_count": 10,
   "id": "30c487cb",
   "metadata": {},
   "outputs": [
    {
     "data": {
      "text/plain": [
       "real    2847\n",
       "fake    1227\n",
       "Name: class, dtype: int64"
      ]
     },
     "execution_count": 10,
     "metadata": {},
     "output_type": "execute_result"
    }
   ],
   "source": [
    "train_x, valid_x, train_y, valid_y = model_selection.train_test_split(NewsDataset['statement'],Le.fit_transform(NewsDataset['class']), test_size=0.15, random_state=42)\n",
    "NewsDataset['class'].value_counts()"
   ]
  },
  {
   "cell_type": "code",
   "execution_count": 11,
   "id": "2e7b0cc5",
   "metadata": {},
   "outputs": [
    {
     "data": {
      "text/plain": [
       "CountVectorizer(token_pattern='\\\\w{1,}')"
      ]
     },
     "execution_count": 11,
     "metadata": {},
     "output_type": "execute_result"
    }
   ],
   "source": [
    "count_vect = CountVectorizer(analyzer='word', token_pattern=r'\\w{1,}')\n",
    "count_vect.fit(NewsDataset['statement'])"
   ]
  },
  {
   "cell_type": "code",
   "execution_count": 12,
   "id": "9bc0bedf",
   "metadata": {},
   "outputs": [],
   "source": [
    "# transform the training and validation data using count vectorizer object\n",
    "train_x_count =  count_vect.transform(train_x)\n",
    "valid_x_count =  count_vect.transform(valid_x)"
   ]
  },
  {
   "cell_type": "code",
   "execution_count": 13,
   "id": "020f97ca",
   "metadata": {},
   "outputs": [],
   "source": [
    "def train_model(classifier, feature_vector_train, label, feature_vector_valid, is_neural_net=False):\n",
    "    # fit the training dataset on the classifier\n",
    "    classifier.fit(feature_vector_train, label)\n",
    "    \n",
    "    # predict the labels on validation dataset\n",
    "    predictions = classifier.predict(feature_vector_valid)\n",
    "    \n",
    "    \n",
    "    return metrics.accuracy_score(predictions, valid_y)"
   ]
  },
  {
   "cell_type": "markdown",
   "id": "067f1150",
   "metadata": {},
   "source": [
    "# Logistic regression"
   ]
  },
  {
   "cell_type": "code",
   "execution_count": 14,
   "id": "570309e7",
   "metadata": {},
   "outputs": [
    {
     "name": "stdout",
     "output_type": "stream",
     "text": [
      "LR, Count Vectors:  0.8529411764705882\n"
     ]
    }
   ],
   "source": [
    "accuracy = train_model(linear_model.LogisticRegression(random_state=42,solver='lbfgs',max_iter=0.1e10), train_x_count, train_y, valid_x_count)\n",
    "print(\"LR, Count Vectors: \", accuracy)"
   ]
  },
  {
   "cell_type": "markdown",
   "id": "6789d826",
   "metadata": {},
   "source": [
    " # NAVIE BAYES "
   ]
  },
  {
   "cell_type": "code",
   "execution_count": 15,
   "id": "0f84e29b",
   "metadata": {},
   "outputs": [
    {
     "name": "stdout",
     "output_type": "stream",
     "text": [
      "NB, Count Vectors:  0.8284313725490197\n"
     ]
    }
   ],
   "source": [
    "accuracy = train_model(naive_bayes.MultinomialNB(), train_x_count, train_y, valid_x_count)\n",
    "print(\"NB, Count Vectors: \", accuracy)"
   ]
  },
  {
   "cell_type": "markdown",
   "id": "60fd217b",
   "metadata": {},
   "source": [
    "#  svm"
   ]
  },
  {
   "cell_type": "code",
   "execution_count": 16,
   "id": "efb84329",
   "metadata": {},
   "outputs": [
    {
     "name": "stdout",
     "output_type": "stream",
     "text": [
      "SVM, Count Vectors:  0.8660130718954249\n"
     ]
    }
   ],
   "source": [
    "accuracy = train_model(svm.NuSVC(), train_x_count, train_y, valid_x_count)\n",
    "print(\"SVM, Count Vectors: \", accuracy)"
   ]
  },
  {
   "cell_type": "markdown",
   "id": "1a8dbda2",
   "metadata": {},
   "source": [
    "# random forest"
   ]
  },
  {
   "cell_type": "code",
   "execution_count": 17,
   "id": "1e06999c",
   "metadata": {},
   "outputs": [
    {
     "name": "stdout",
     "output_type": "stream",
     "text": [
      "RF, Count Vectors:  0.8888888888888888\n"
     ]
    }
   ],
   "source": [
    "accuracy = train_model(ensemble.RandomForestClassifier(n_estimators=200,random_state=42), train_x_count, train_y, valid_x_count)\n",
    "print(\"RF, Count Vectors: \", accuracy)"
   ]
  },
  {
   "cell_type": "markdown",
   "id": "5fbae0f0",
   "metadata": {},
   "source": [
    "# Decision Tree"
   ]
  },
  {
   "cell_type": "code",
   "execution_count": 18,
   "id": "f23ff8fa",
   "metadata": {},
   "outputs": [
    {
     "name": "stdout",
     "output_type": "stream",
     "text": [
      "Decision Tree Classifier, Count Vectors:  0.8251633986928104\n"
     ]
    }
   ],
   "source": [
    "accuracy = train_model(DecisionTreeClassifier(max_leaf_nodes=200,random_state=42), train_x_count, train_y, valid_x_count)\n",
    "print(\"Decision Tree Classifier, Count Vectors: \", accuracy)"
   ]
  },
  {
   "cell_type": "markdown",
   "id": "22b3bcb7",
   "metadata": {},
   "source": [
    "# Testing"
   ]
  },
  {
   "cell_type": "code",
   "execution_count": 19,
   "id": "543e4e14",
   "metadata": {},
   "outputs": [
    {
     "name": "stdout",
     "output_type": "stream",
     "text": [
      "realnews\n"
     ]
    }
   ],
   "source": [
    "classifier = ensemble.RandomForestClassifier(n_estimators=200,random_state=42).fit(train_x_count, train_y)\n",
    "test_sent=[\"కరోనా ఉద్ధృతితో యావ ప్రపంచమే స్తంభించిపోయింది. ప్రస్తుతం మన దేశం అత్యంత కఠినమైన పరిస్థితులు ఎదుర్కొంటోంది. లాక్ డౌన్ తో దాదాపు అన్ని రంగాలూ ఎక్కడివక్కడే నిలిచిపోయాయి\"]\n",
    "counts= count_vect.transform(test_sent)\n",
    "predicted= classifier.predict(counts)\n",
    "if predicted== 1: \n",
    "    print(\"realnews\")\n",
    "else:\n",
    "    print(\"fakenews\")"
   ]
  },
  {
   "cell_type": "code",
   "execution_count": 20,
   "id": "58c6e301",
   "metadata": {},
   "outputs": [
    {
     "name": "stdout",
     "output_type": "stream",
     "text": [
      "fakenews\n"
     ]
    }
   ],
   "source": [
    "test_sent2=[' పేషెంట్ ఛాతి ఎక్స్‌-రేలో బతికున్న బొద్దింక కనిపించిన దృశ్యాలు.']\n",
    "counts= count_vect.transform(test_sent2)\n",
    "predicted= classifier.predict(counts)\n",
    "if predicted== 1: \n",
    "    print(\"realnews\")\n",
    "else:\n",
    "    print(\"fakenews\")"
   ]
  },
  {
   "cell_type": "code",
   "execution_count": null,
   "id": "72986977",
   "metadata": {},
   "outputs": [],
   "source": []
  }
 ],
 "metadata": {
  "kernelspec": {
   "display_name": "Python 3",
   "language": "python",
   "name": "python3"
  },
  "language_info": {
   "codemirror_mode": {
    "name": "ipython",
    "version": 3
   },
   "file_extension": ".py",
   "mimetype": "text/x-python",
   "name": "python",
   "nbconvert_exporter": "python",
   "pygments_lexer": "ipython3",
   "version": "3.8.8"
  }
 },
 "nbformat": 4,
 "nbformat_minor": 5
}
